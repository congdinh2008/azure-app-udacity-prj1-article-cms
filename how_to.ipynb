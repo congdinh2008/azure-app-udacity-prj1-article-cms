{
 "cells": [
  {
   "attachments": {},
   "cell_type": "markdown",
   "metadata": {},
   "source": [
    "# Article CMS - Cloud Developer With MS Azure - Udacity Project I"
   ]
  },
  {
   "attachments": {},
   "cell_type": "markdown",
   "metadata": {},
   "source": [
    "## 1. Add configuration"
   ]
  },
  {
   "cell_type": "code",
   "execution_count": null,
   "metadata": {},
   "outputs": [],
   "source": [
    "import configparser"
   ]
  },
  {
   "cell_type": "code",
   "execution_count": null,
   "metadata": {},
   "outputs": [],
   "source": [
    "config = configparser.ConfigParser()\n",
    "config.read_file(open('azure.cfg'))\n",
    "\n",
    "RESOURCE_GROUP              = config.get('RESOURCE','RESOURCE_GROUP')\n",
    "LOCATION                    = config.get('RESOURCE','LOCATION')\n",
    "SQL_SERVER                  = config.get(\"SQL\",\"SQL_SERVER\")\n",
    "SQL_DATABASE                = config.get(\"SQL\",\"SQL_DATABASE\")\n",
    "SQL_ADMIN_USER              = config.get(\"SQL\",\"SQL_ADMIN_USER\")\n",
    "SQL_ADMIN_PASSWORD          = config.get(\"SQL\",\"SQL_ADMIN_PASSWORD\")\n",
    "SQL_SKU                     = config.get(\"SQL\",\"SQL_SKU\")\n",
    "SQL_EDITION                 = config.get(\"SQL\",\"SQL_EDITION\")\n",
    "STORAGE_ACCOUNT_NAME        = config.get(\"STORAGE\",\"STORAGE_ACCOUNT_NAME\")\n",
    "STORAGE_CONTAINER_NAME      = config.get(\"STORAGE\",\"STORAGE_CONTAINER_NAME\")\n",
    "STORAGE_SKU                 = config.get(\"STORAGE\",\"STORAGE_SKU\")\n",
    "STORAGE_KIND                = config.get(\"STORAGE\",\"STORAGE_KIND\")\n",
    "APP_NAME                    = config.get(\"APP\",\"APP_NAME\")\n",
    "APP_SERVICE_PLAN_NAME       = config.get(\"APP\",\"APP_SERVICE_PLAN_NAME\")\n",
    "APP_SKU                     = config.get(\"APP\",\"APP_SKU\")\n",
    "APP_RUNTIME                 = config.get(\"APP\",\"APP_RUNTIME\")\n",
    "AAD_APP_NAME                = config.get(\"AAD\",\"AAD_APP_NAME\")\n",
    "REDIRECT_URL                = config.get(\"AAD\",\"REDIRECT_URL\")\n",
    "PUBLIC_IP_ADDRESS           = config.get(\"IP\",\"PUBLIC_IP_ADDRESS\")"
   ]
  },
  {
   "cell_type": "code",
   "execution_count": null,
   "metadata": {},
   "outputs": [],
   "source": [
    "import os\n",
    "os.environ[\"RESOURCE_GROUP\"]            = RESOURCE_GROUP\n",
    "os.environ[\"LOCATION\"]                  = LOCATION\n",
    "os.environ[\"SQL_SERVER\"]                = SQL_SERVER\n",
    "os.environ[\"SQL_DATABASE\"]              = SQL_DATABASE\n",
    "os.environ[\"SQL_ADMIN_USER\"]            = SQL_ADMIN_USER\n",
    "os.environ[\"SQL_ADMIN_PASSWORD\"]        = SQL_ADMIN_PASSWORD\n",
    "os.environ[\"SQL_SKU\"]                   = SQL_SKU\n",
    "os.environ[\"SQL_EDITION\"]               = SQL_EDITION\n",
    "os.environ[\"STORAGE_ACCOUNT_NAME\"]      = STORAGE_ACCOUNT_NAME\n",
    "os.environ[\"STORAGE_CONTAINER_NAME\"]    = STORAGE_CONTAINER_NAME\n",
    "os.environ[\"STORAGE_SKU\"]               = STORAGE_SKU\n",
    "os.environ[\"STORAGE_KIND\"]              = STORAGE_KIND\n",
    "os.environ[\"APP_NAME\"]                  = APP_NAME\n",
    "os.environ[\"APP_SERVICE_PLAN_NAME\"]     = APP_SERVICE_PLAN_NAME\n",
    "os.environ[\"APP_SKU\"]                   = APP_SKU\n",
    "os.environ[\"APP_RUNTIME\"]               = APP_RUNTIME\n",
    "os.environ[\"AAD_APP_NAME\"]              = AAD_APP_NAME\n",
    "os.environ[\"REDIRECT_URL\"]              = REDIRECT_URL\n",
    "os.environ[\"PUBLIC_IP_ADDRESS\"]         = PUBLIC_IP_ADDRESS"
   ]
  },
  {
   "attachments": {},
   "cell_type": "markdown",
   "metadata": {},
   "source": [
    "## 2. Create Resources"
   ]
  },
  {
   "attachments": {},
   "cell_type": "markdown",
   "metadata": {},
   "source": [
    "### 2.1. Login Azure CLI"
   ]
  },
  {
   "cell_type": "code",
   "execution_count": null,
   "metadata": {},
   "outputs": [],
   "source": [
    "! az login"
   ]
  },
  {
   "attachments": {},
   "cell_type": "markdown",
   "metadata": {},
   "source": [
    "### 2.2. Create Resource Group"
   ]
  },
  {
   "attachments": {},
   "cell_type": "markdown",
   "metadata": {},
   "source": [
    "#### 2.2.1. See list-locations"
   ]
  },
  {
   "cell_type": "code",
   "execution_count": null,
   "metadata": {},
   "outputs": [],
   "source": [
    "! az account list-locations -o table"
   ]
  },
  {
   "attachments": {},
   "cell_type": "markdown",
   "metadata": {},
   "source": [
    "#### 2.2.2. Create resource group"
   ]
  },
  {
   "cell_type": "code",
   "execution_count": null,
   "metadata": {},
   "outputs": [],
   "source": [
    "! az account list-locations -o table"
   ]
  },
  {
   "attachments": {},
   "cell_type": "markdown",
   "metadata": {},
   "source": [
    "#### 2.2.2. Create resource group"
   ]
  },
  {
   "cell_type": "code",
   "execution_count": null,
   "metadata": {},
   "outputs": [],
   "source": [
    "! az group create \\\n",
    "    --name {RESOURCE_GROUP} \\\n",
    "    --location {LOCATION}"
   ]
  },
  {
   "attachments": {},
   "cell_type": "markdown",
   "metadata": {},
   "source": [
    "### 2.3 Create SQL Database"
   ]
  },
  {
   "attachments": {},
   "cell_type": "markdown",
   "metadata": {},
   "source": [
    "#### 2.3.1. Create SQL Server"
   ]
  },
  {
   "cell_type": "code",
   "execution_count": null,
   "metadata": {},
   "outputs": [],
   "source": [
    "! az sql server create \\\n",
    "    -n {SQL_SERVER} \\\n",
    "    -g {RESOURCE_GROUP} \\\n",
    "    -l {LOCATION} \\\n",
    "    -u {SQL_ADMIN_USER} \\\n",
    "    -p {SQL_ADMIN_PASSWORD} \\\n",
    "    -e True"
   ]
  },
  {
   "attachments": {},
   "cell_type": "markdown",
   "metadata": {},
   "source": [
    "#### 2.3.2. Create SQL Database"
   ]
  },
  {
   "cell_type": "code",
   "execution_count": null,
   "metadata": {},
   "outputs": [],
   "source": [
    "! az sql db create \\\n",
    "    -n {SQL_DATABASE} \\\n",
    "    -g {RESOURCE_GROUP} \\\n",
    "    -s {SQL_SERVER} \\\n",
    "    -e {SQL_EDITION} \\\n",
    "    --bsr Local \\\n",
    "    -z False"
   ]
  },
  {
   "attachments": {},
   "cell_type": "markdown",
   "metadata": {},
   "source": [
    "#### 2.3.3. Config firewall rules connect from azure services"
   ]
  },
  {
   "cell_type": "code",
   "execution_count": null,
   "metadata": {},
   "outputs": [],
   "source": [
    "! az sql server firewall-rule create \\\n",
    "    -g {RESOURCE_GROUP} \\\n",
    "    -s {SQL_SERVER} \\\n",
    "    -n azureaccess \\\n",
    "    --start-ip-address 0.0.0.0 \\\n",
    "    --end-ip-address 0.0.0.0 \\\n",
    "    --verbose"
   ]
  },
  {
   "attachments": {},
   "cell_type": "markdown",
   "metadata": {},
   "source": [
    "#### 2.3.4. Config firewall rules connect from local machine"
   ]
  },
  {
   "cell_type": "code",
   "execution_count": null,
   "metadata": {},
   "outputs": [],
   "source": [
    "! az sql server firewall-rule create \\\n",
    "    -g {RESOURCE_GROUP} \\\n",
    "    -s {SQL_SERVER} \\\n",
    "    -n clientip \\\n",
    "    --start-ip-address {PUBLIC_IP_ADDRESS} \\\n",
    "    --end-ip-address {PUBLIC_IP_ADDRESS} \\\n",
    "    --verbose"
   ]
  },
  {
   "attachments": {},
   "cell_type": "markdown",
   "metadata": {},
   "source": [
    "### 2.4. Create Azure SQL Database tables: Posts and Users - If using Windows"
   ]
  },
  {
   "attachments": {},
   "cell_type": "markdown",
   "metadata": {},
   "source": [
    "#### 2.4.1. Config pyodbc"
   ]
  },
  {
   "cell_type": "code",
   "execution_count": null,
   "metadata": {},
   "outputs": [],
   "source": [
    "import pyodbc"
   ]
  },
  {
   "cell_type": "code",
   "execution_count": null,
   "metadata": {},
   "outputs": [],
   "source": [
    "conn = pyodbc.connect(\n",
    "    'DRIVER={ODBC Driver 17 for SQL Server};' +\n",
    "    'SERVER=' + {SQL_SERVER} + ';' +\n",
    "    'DATABASE=' + {SQL_DATABASE} + ';' +\n",
    "    'UID=' + {SQL_ADMIN_USER} + ';' +\n",
    "    'PWD=' + {SQL_ADMIN_PASSWORD} + ';' +\n",
    "    'Encrypt=yes;' +\n",
    "    'TrustServerCertificate=no;' +\n",
    "    'Connection Timeout=30;'\n",
    ")"
   ]
  },
  {
   "cell_type": "code",
   "execution_count": null,
   "metadata": {},
   "outputs": [],
   "source": [
    "cursor = conn.cursor()"
   ]
  },
  {
   "attachments": {},
   "cell_type": "markdown",
   "metadata": {},
   "source": [
    "#### 2.4.2. Create Posts Table"
   ]
  },
  {
   "cell_type": "code",
   "execution_count": null,
   "metadata": {},
   "outputs": [],
   "source": [
    "sql_script = ''\n",
    "# Read the SQL script file\n",
    "with open('./sql_scripts/posts-table-init.sql', 'r') as file:\n",
    "    sql_script = file.read()\n",
    "\n",
    "# Execute the SQL script\n",
    "cursor.execute(sql_script)\n",
    "\n",
    "# Commit the transaction\n",
    "conn.commit()"
   ]
  },
  {
   "attachments": {},
   "cell_type": "markdown",
   "metadata": {},
   "source": [
    "#### 2.4.3. Create Users Table"
   ]
  },
  {
   "cell_type": "code",
   "execution_count": null,
   "metadata": {},
   "outputs": [],
   "source": [
    "sql_script = ''\n",
    "# Read the SQL script file\n",
    "with open('./sql_scripts/users-table-init.sql', 'r') as file:\n",
    "    sql_script = file.read()\n",
    "\n",
    "# Execute the SQL script\n",
    "cursor.execute(sql_script)\n",
    "\n",
    "# Commit the transaction\n",
    "conn.commit()"
   ]
  },
  {
   "attachments": {},
   "cell_type": "markdown",
   "metadata": {},
   "source": [
    "#### 2.4.4. Check tables"
   ]
  },
  {
   "cell_type": "code",
   "execution_count": null,
   "metadata": {},
   "outputs": [],
   "source": [
    "sql_script = 'SELECT * FROM posts;'\n",
    "\n",
    "# Execute the SQL script\n",
    "cursor.execute(sql_script)\n",
    "\n",
    "# Commit the transaction\n",
    "conn.commit()"
   ]
  },
  {
   "cell_type": "code",
   "execution_count": null,
   "metadata": {},
   "outputs": [],
   "source": [
    "sql_script = 'SELECT * FROM users;'\n",
    "\n",
    "# Execute the SQL script\n",
    "cursor.execute(sql_script)\n",
    "\n",
    "# Commit the transaction\n",
    "conn.commit()"
   ]
  },
  {
   "attachments": {},
   "cell_type": "markdown",
   "metadata": {},
   "source": [
    "### 2.5 Create Storage Container"
   ]
  },
  {
   "attachments": {},
   "cell_type": "markdown",
   "metadata": {},
   "source": [
    "#### 2.5.1. Create Azure Storage Account"
   ]
  },
  {
   "cell_type": "code",
   "execution_count": null,
   "metadata": {},
   "outputs": [],
   "source": [
    "! az storage account create \\\n",
    "    --name {STORAGE_ACCOUNT_NAME} \\\n",
    "    --resource-group {RESOURCE_GROUP} \\\n",
    "    --location {LOCATION} \\\n",
    "    --sku {STORAGE_SKU} \\\n",
    "    --kind {STORAGE_KIND}\n"
   ]
  },
  {
   "attachments": {},
   "cell_type": "markdown",
   "metadata": {},
   "source": [
    "#### 2.5.2. Show Azure Storage Account Connection String"
   ]
  },
  {
   "cell_type": "code",
   "execution_count": null,
   "metadata": {},
   "outputs": [],
   "source": [
    "! az storage account show-connection-string \\\n",
    "    --name {STORAGE_ACCOUNT_NAME} \\\n",
    "    --resource-group {RESOURCE_GROUP}"
   ]
  },
  {
   "attachments": {},
   "cell_type": "markdown",
   "metadata": {},
   "source": [
    "#### 2.5.3 Create Storage Container - Get the above connection string and update and rung the following commands"
   ]
  },
  {
   "cell_type": "code",
   "execution_count": null,
   "metadata": {},
   "outputs": [],
   "source": [
    "! az storage container create \\\n",
    "    --name {STORAGE_CONTAINER_NAME} \\\n",
    "    --account-name {STORAGE_ACCOUNT_NAME} \\\n",
    "    --auth-mode login \\\n",
    "    --public-access container"
   ]
  },
  {
   "cell_type": "code",
   "execution_count": null,
   "metadata": {},
   "outputs": [],
   "source": [
    "! az storage account keys list \\\n",
    "    --account-name {STORAGE_ACCOUNT_NAME} \\\n",
    "    --resource-group {RESOURCE_GROUP} \\\n",
    "    --output json\n"
   ]
  },
  {
   "attachments": {},
   "cell_type": "markdown",
   "metadata": {},
   "source": [
    "- Update key in the result of the above command to azure.cfg file"
   ]
  },
  {
   "attachments": {},
   "cell_type": "markdown",
   "metadata": {},
   "source": [
    "### 2.6 Create Azure App Service"
   ]
  },
  {
   "attachments": {},
   "cell_type": "markdown",
   "metadata": {},
   "source": [
    "#### 2.6.1. List Runtime Environment"
   ]
  },
  {
   "cell_type": "code",
   "execution_count": null,
   "metadata": {},
   "outputs": [],
   "source": [
    "! az webapp list-runtimes"
   ]
  },
  {
   "attachments": {},
   "cell_type": "markdown",
   "metadata": {},
   "source": [
    "#### 2.6.2. Create App Service Plan"
   ]
  },
  {
   "cell_type": "code",
   "execution_count": null,
   "metadata": {},
   "outputs": [],
   "source": [
    "#### 2.6.2. Create App Service Plan"
   ]
  },
  {
   "cell_type": "code",
   "execution_count": null,
   "metadata": {},
   "outputs": [],
   "source": [
    "! az appservice plan create \\\n",
    "    --name {APP_SERVICE_PLAN_NAME} \\\n",
    "    --resource-group {RESOURCE_GROUP} \\\n",
    "    --location {LOCATION} \\\n",
    "    --sku {APP_SKU} \\\n",
    "    --is-linux"
   ]
  },
  {
   "attachments": {},
   "cell_type": "markdown",
   "metadata": {},
   "source": [
    "#### 2.6.3. Create App Service"
   ]
  },
  {
   "cell_type": "code",
   "execution_count": null,
   "metadata": {},
   "outputs": [],
   "source": [
    "#### 2.6.3. Create App Service"
   ]
  },
  {
   "cell_type": "code",
   "execution_count": null,
   "metadata": {},
   "outputs": [],
   "source": [
    "! az webapp create \\\n",
    "    --name {APP_NAME} \\\n",
    "    --resource-group {RESOURCE_GROUP} \\\n",
    "    --plan {APP_SERVICE_PLAN_NAME} \\\n",
    "    --runtime {APP_RUNTIME}"
   ]
  },
  {
   "attachments": {},
   "cell_type": "markdown",
   "metadata": {},
   "source": [
    "### 3. Config Azure Active Directory"
   ]
  },
  {
   "attachments": {},
   "cell_type": "markdown",
   "metadata": {},
   "source": [
    "#### 3.1. Register an application"
   ]
  },
  {
   "cell_type": "code",
   "execution_count": null,
   "metadata": {},
   "outputs": [],
   "source": [
    "! az ad app create \\\n",
    "    --display-name congdinh2025-article-cms \\\n",
    "    --web-redirect-uris {REDIRECT_URL} \\\n",
    "    --sign-in-audience AzureADandPersonalMicrosoftAccount\n"
   ]
  },
  {
   "attachments": {},
   "cell_type": "markdown",
   "metadata": {},
   "source": [
    "#### 3.2. Config client secret for application\n",
    "- After registering an application\n",
    "- Create a credential for the application\n",
    "- Using id application from result of the above command"
   ]
  },
  {
   "cell_type": "code",
   "execution_count": null,
   "metadata": {},
   "outputs": [],
   "source": [
    "! az ad app credential reset \\\n",
    "    --id d7c0c4ea-6eb8-46c5-8593-2916a5f08c6a \\\n",
    "    --query \"password\" -o json\n"
   ]
  },
  {
   "attachments": {},
   "cell_type": "markdown",
   "metadata": {},
   "source": [
    "- Update secret from the result of the above command to azure.cfg file"
   ]
  },
  {
   "attachments": {},
   "cell_type": "markdown",
   "metadata": {},
   "source": [
    "## 4. Deploy Application"
   ]
  },
  {
   "attachments": {},
   "cell_type": "markdown",
   "metadata": {},
   "source": [
    "### 4.1. Using VSCode - Recommended"
   ]
  },
  {
   "attachments": {},
   "cell_type": "markdown",
   "metadata": {},
   "source": [
    "- Login Azure by Azure Extension\n",
    "- Right click on App Service Name the app service in Azure Resources Manager - The Azure Extension tab. \n",
    "- Choose Deploy to Web App"
   ]
  },
  {
   "attachments": {},
   "cell_type": "markdown",
   "metadata": {},
   "source": [
    "### 4.2. Using Azure CLI"
   ]
  },
  {
   "attachments": {},
   "cell_type": "markdown",
   "metadata": {},
   "source": [
    "#### 4.2.1 New Deploy"
   ]
  },
  {
   "cell_type": "code",
   "execution_count": null,
   "metadata": {},
   "outputs": [],
   "source": [
    "! az webapp up \\\n",
    "    --resource-group {RESOURCE_GROUP} \\\n",
    "    --name {APP_NAME} \\\n",
    "    --sku {APP_SKU} \\\n",
    "    --verbose\n"
   ]
  },
  {
   "attachments": {},
   "cell_type": "markdown",
   "metadata": {},
   "source": [
    "#### 4.2.2. Update After Deployment"
   ]
  },
  {
   "cell_type": "code",
   "execution_count": null,
   "metadata": {},
   "outputs": [],
   "source": [
    "! az webapp up \\\n",
    "    --name {APP_NAME} \\\n",
    "    --verbose"
   ]
  },
  {
   "attachments": {},
   "cell_type": "markdown",
   "metadata": {},
   "source": [
    "### 5. Delete Resources"
   ]
  },
  {
   "attachments": {},
   "cell_type": "markdown",
   "metadata": {},
   "source": [
    "#### 5.1. Delete group - delete all resources belong to this group"
   ]
  },
  {
   "cell_type": "code",
   "execution_count": null,
   "metadata": {},
   "outputs": [],
   "source": [
    "! az group delete -n {RESOURCE_GROUP}"
   ]
  },
  {
   "attachments": {},
   "cell_type": "markdown",
   "metadata": {},
   "source": [
    "### 5.2. Delete each resources"
   ]
  },
  {
   "attachments": {},
   "cell_type": "markdown",
   "metadata": {},
   "source": [
    "#### 5.2.1. Delete Azure Sql Database"
   ]
  },
  {
   "cell_type": "code",
   "execution_count": null,
   "metadata": {},
   "outputs": [],
   "source": [
    "! az sql server delete \\\n",
    "    --name {SQL_SERVER} \\\n",
    "    --resource-group {RESOURCE_GROUP} \\"
   ]
  },
  {
   "cell_type": "code",
   "execution_count": null,
   "metadata": {},
   "outputs": [],
   "source": [
    "! az sql db delete \\\n",
    "    --name {SQL_DATABASE} \\\n",
    "    --resource-group {RESOURCE_GROUP} \\\n",
    "    --server {SQL_SERVER}"
   ]
  },
  {
   "attachments": {},
   "cell_type": "markdown",
   "metadata": {},
   "source": [
    "#### 5.2.2. Delete Azure Storage Container"
   ]
  },
  {
   "cell_type": "code",
   "execution_count": null,
   "metadata": {},
   "outputs": [],
   "source": [
    "! az storage container delete \\\n",
    "    --name {STORAGE_CONTAINER_NAME} \\\n",
    "    --account-name {STORAGE_ACCOUNT_NAME} "
   ]
  },
  {
   "cell_type": "code",
   "execution_count": null,
   "metadata": {},
   "outputs": [],
   "source": [
    "! az storage account delete \\\n",
    "    --name {STORAGE_ACCOUNT_NAME} \\\n",
    "    --resource-group {RESOURCE_GROUP}"
   ]
  }
 ],
 "metadata": {
  "kernelspec": {
   "display_name": "azure-dev",
   "language": "python",
   "name": "python3"
  },
  "language_info": {
   "codemirror_mode": {
    "name": "ipython",
    "version": 3
   },
   "file_extension": ".py",
   "mimetype": "text/x-python",
   "name": "python",
   "nbconvert_exporter": "python",
   "pygments_lexer": "ipython3",
   "version": "3.11.3"
  },
  "orig_nbformat": 4
 },
 "nbformat": 4,
 "nbformat_minor": 2
}
